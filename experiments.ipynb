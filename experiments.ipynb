{
 "cells": [
  {
   "cell_type": "markdown",
   "metadata": {},
   "source": [
    "# Parameter sharing with Explicit Recursion"
   ]
  },
  {
   "cell_type": "code",
   "execution_count": 1,
   "metadata": {},
   "outputs": [],
   "source": [
    "import torch\n",
    "import torch.nn as nn\n",
    "import torch.nn.functional as F\n",
    "import torch.optim as optim\n",
    "import torch.backends.cudnn as cudnn\n",
    "import torchvision\n",
    "import torchvision.transforms as transforms\n",
    "import sys \n",
    "import os\n",
    "import time\n",
    "\n",
    "from models.cifar100 import resnet\n",
    "import utils\n",
    "\n",
    "import numpy as np\n",
    "%matplotlib inline\n",
    "import matplotlib.pyplot as plt"
   ]
  },
  {
   "cell_type": "markdown",
   "metadata": {},
   "source": [
    "### Model Test"
   ]
  },
  {
   "cell_type": "code",
   "execution_count": 9,
   "metadata": {
    "tags": []
   },
   "outputs": [
    {
     "output_type": "execute_result",
     "data": {
      "text/plain": "<All keys matched successfully>"
     },
     "metadata": {},
     "execution_count": 9
    }
   ],
   "source": [
    "model = resnet.ResNet34_SingleShared\n",
    "file_weight = './checkpoint/CIFAR100-ResNet34_SingleShared-S32-U1-L10.0-nofinetuned-1.pth'\n",
    "file_weight2 = './checkpoint/CIFAR100-ResNet34_SingleShared-S32-U1-L10.0-1.pth'\n",
    "shared_rank=32\n",
    "unique_rank = 1\n",
    "    \n",
    "testloader = utils.get_testdata('CIFAR100',\"./data\",batch_size=256)\n",
    "\n",
    "device='cuda'\n",
    "\n",
    "net = model(shared_rank, unique_rank)\n",
    "net = net.to(device)\n",
    "checkpoint = torch.load(file_weight)\n",
    "net.load_state_dict(checkpoint['net_state_dict'])\n",
    "\n",
    "net2 = model(shared_rank, unique_rank)\n",
    "net2 = net2.to(device)\n",
    "checkpoint = torch.load(file_weight2)\n",
    "net2.load_state_dict(checkpoint['net_state_dict'])\n"
   ]
  },
  {
   "cell_type": "code",
   "execution_count": 25,
   "metadata": {
    "tags": []
   },
   "outputs": [
    {
     "output_type": "stream",
     "name": "stdout",
     "text": "True\nTrue\n"
    }
   ],
   "source": [
    "print(torch.equal(net.layer3[1].coeff_conv1.weight.data, net2.layer3[1].coeff_conv1.weight.data))\n",
    "print(torch.equal(net.fc_skip.weight.data, net2.fc_skip.weight.data))"
   ]
  },
  {
   "cell_type": "code",
   "execution_count": 22,
   "metadata": {
    "tags": []
   },
   "outputs": [
    {
     "output_type": "stream",
     "name": "stdout",
     "text": "Parameter containing:\ntensor([[[[-8.6031e-04]],\n\n         [[ 2.7997e-03]],\n\n         [[-1.4403e-03]],\n\n         ...,\n\n         [[ 2.5615e-03]],\n\n         [[-2.6530e-03]],\n\n         [[ 2.0235e-03]]],\n\n\n        [[[ 6.0741e-03]],\n\n         [[-2.3647e-03]],\n\n         [[-5.7773e-03]],\n\n         ...,\n\n         [[-1.1535e-03]],\n\n         [[ 2.6554e-05]],\n\n         [[ 2.8954e-03]]],\n\n\n        [[[ 1.5489e-03]],\n\n         [[ 2.9847e-03]],\n\n         [[-1.0291e-03]],\n\n         ...,\n\n         [[-6.0833e-04]],\n\n         [[ 8.0511e-04]],\n\n         [[ 1.7967e-04]]],\n\n\n        ...,\n\n\n        [[[-7.5172e-04]],\n\n         [[-2.3077e-04]],\n\n         [[-6.0648e-03]],\n\n         ...,\n\n         [[ 2.9002e-03]],\n\n         [[-4.2223e-03]],\n\n         [[ 2.8131e-04]]],\n\n\n        [[[ 7.7262e-04]],\n\n         [[ 1.2863e-03]],\n\n         [[ 1.1007e-03]],\n\n         ...,\n\n         [[-1.7288e-03]],\n\n         [[ 2.7387e-04]],\n\n         [[-6.2827e-04]]],\n\n\n        [[[-3.2858e-03]],\n\n         [[ 9.5407e-04]],\n\n         [[ 3.0025e-03]],\n\n         ...,\n\n         [[-3.6341e-03]],\n\n         [[ 6.1982e-03]],\n\n         [[ 1.1397e-03]]]], device='cuda:0', requires_grad=True)\n"
    }
   ],
   "source": [
    "for p in net2.layer3[3].coeff_conv1.parameters():\n",
    "    print(p)"
   ]
  },
  {
   "cell_type": "markdown",
   "metadata": {},
   "source": [
    "### freeze the parameters of the scaled-down model."
   ]
  },
  {
   "cell_type": "code",
   "execution_count": null,
   "metadata": {},
   "outputs": [],
   "source": []
  },
  {
   "cell_type": "code",
   "execution_count": null,
   "metadata": {
    "tags": []
   },
   "outputs": [],
   "source": [
    "import copy\n",
    "XX = copy.deepcopy(net.layer1[1].coeff_conv1.weight.data)\n",
    "print(torch.equal(XX, net.layer1[1].coeff_conv1.weight.data))"
   ]
  },
  {
   "cell_type": "code",
   "execution_count": null,
   "metadata": {
    "tags": []
   },
   "outputs": [],
   "source": [
    "# freeze all parameters\n",
    "for param in net.parameters():\n",
    "    param.requires_grad = False\n",
    "\n",
    "# defreeze params of only being used by the high-performance model\n",
    "num_blocks =[0, 3, 4, 6, 3]\n",
    "for i in range(1,5): # Layers. Skip the first layer\n",
    "    layer = getattr(net,\"layer\"+str(i))\n",
    "    num_skip_blocks = int(num_blocks[i]/2)\n",
    "    for j in range(num_skip_blocks, num_blocks[i]): # blocks. Skip the first block\n",
    "        print(\"layer: %s, block: %s\" %(i, j))\n",
    "        layer[j].coeff_conv1.weight.requires_grad = True\n",
    "        layer[j].coeff_conv2.weight.requires_grad = True\n",
    "net.fc.weight.requires_grad = True\n",
    "net.fc.bias.requires_grad = True"
   ]
  },
  {
   "cell_type": "code",
   "execution_count": null,
   "metadata": {
    "tags": []
   },
   "outputs": [],
   "source": [
    "print(net.layer1[1].coeff_conv1.weight.requires_grad)"
   ]
  },
  {
   "cell_type": "code",
   "execution_count": null,
   "metadata": {},
   "outputs": [],
   "source": []
  },
  {
   "cell_type": "code",
   "execution_count": null,
   "metadata": {},
   "outputs": [],
   "source": []
  }
 ],
 "metadata": {
  "kernelspec": {
   "display_name": "Python 3",
   "language": "python",
   "name": "python3"
  },
  "language_info": {
   "codemirror_mode": {
    "name": "ipython",
    "version": 3
   },
   "file_extension": ".py",
   "mimetype": "text/x-python",
   "name": "python",
   "nbconvert_exporter": "python",
   "pygments_lexer": "ipython3",
   "version": "3.6.9-final"
  }
 },
 "nbformat": 4,
 "nbformat_minor": 4
}