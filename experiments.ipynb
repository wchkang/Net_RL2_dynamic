{
 "cells": [
  {
   "cell_type": "markdown",
   "metadata": {},
   "source": [
    "# Parameter sharing with Explicit Recursion"
   ]
  },
  {
   "cell_type": "code",
   "execution_count": 1,
   "metadata": {},
   "outputs": [],
   "source": [
    "import torch\n",
    "import torch.nn as nn\n",
    "import torch.nn.functional as F\n",
    "import torch.optim as optim\n",
    "import torch.backends.cudnn as cudnn\n",
    "import torchvision\n",
    "import torchvision.transforms as transforms\n",
    "import sys \n",
    "import os\n",
    "import time\n",
    "\n",
    "from models.cifar100 import resnet\n",
    "import utils\n",
    "\n",
    "import numpy as np\n",
    "%matplotlib inline\n",
    "import matplotlib.pyplot as plt"
   ]
  },
  {
   "cell_type": "code",
   "execution_count": 3,
   "metadata": {},
   "outputs": [],
   "source": [
    "### Model FLOPs & Param Test"
   ]
  },
  {
   "cell_type": "code",
   "execution_count": 9,
   "metadata": {
    "tags": [
     "outputPrepend"
    ]
   },
   "outputs": [
    {
     "output_type": "stream",
     "name": "stdout",
     "text": "fine=True, track_running_stats=True)\n      (coeff_conv2): Conv2d(0.002 M, 0.027% Params, 0.002 GMac, 0.279% MACs, 33, 64, kernel_size=(1, 1), stride=(1, 1), bias=False)\n      (bn2): BatchNorm2d(0.0 M, 0.002% Params, 0.0 GMac, 0.017% MACs, 64, eps=1e-05, momentum=0.1, affine=True, track_running_stats=True)\n      (shortcut): Sequential(0.0 M, 0.000% Params, 0.0 GMac, 0.000% MACs, )\n    )\n  )\n  (shared_basis_2): Conv2d(0.074 M, 0.926% Params, 0.113 GMac, 14.608% MACs, 128, 64, kernel_size=(3, 3), stride=(1, 1), padding=(1, 1), bias=False)\n  (layer2): SkippableSequential(\n    0.527 M, 6.619% Params, 0.416 GMac, 53.630% MACs, \n    (0): BasicBlock(\n      0.23 M, 2.891% Params, 0.059 GMac, 7.600% MACs, \n      (conv1): Conv2d(0.074 M, 0.926% Params, 0.019 GMac, 2.435% MACs, 64, 128, kernel_size=(3, 3), stride=(2, 2), padding=(1, 1), bias=False)\n      (bn1): BatchNorm2d(0.0 M, 0.003% Params, 0.0 GMac, 0.008% MACs, 128, eps=1e-05, momentum=0.1, affine=True, track_running_stats=True)\n      (conv2): Conv2d(0.147 M, 1.853% Params, 0.038 GMac, 4.869% MACs, 128, 128, kernel_size=(3, 3), stride=(1, 1), padding=(1, 1), bias=False)\n      (bn2): BatchNorm2d(0.0 M, 0.003% Params, 0.0 GMac, 0.008% MACs, 128, eps=1e-05, momentum=0.1, affine=True, track_running_stats=True)\n      (shortcut): Sequential(\n        0.008 M, 0.106% Params, 0.002 GMac, 0.279% MACs, \n        (0): Conv2d(0.008 M, 0.103% Params, 0.002 GMac, 0.271% MACs, 64, 128, kernel_size=(1, 1), stride=(2, 2), bias=False)\n        (1): BatchNorm2d(0.0 M, 0.003% Params, 0.0 GMac, 0.008% MACs, 128, eps=1e-05, momentum=0.1, affine=True, track_running_stats=True)\n      )\n    )\n    (1): BasicBlock_SingleShared(\n      0.105 M, 1.316% Params, 0.119 GMac, 15.343% MACs, \n      (shared_basis): Conv2d(0.074 M, 0.926% Params, 0.113 GMac, 14.608% MACs, 128, 64, kernel_size=(3, 3), stride=(1, 1), padding=(1, 1), bias=False)\n      (basis_conv1): Conv2d(0.002 M, 0.029% Params, 0.001 GMac, 0.076% MACs, 128, 2, kernel_size=(3, 3), stride=(1, 1), padding=(1, 1), bias=False)\n      (basis_bn1): BatchNorm2d(0.0 M, 0.002% Params, 0.0 GMac, 0.004% MACs, 66, eps=1e-05, momentum=0.1, affine=True, track_running_stats=True)\n      (coeff_conv1): Conv2d(0.008 M, 0.106% Params, 0.002 GMac, 0.279% MACs, 66, 128, kernel_size=(1, 1), stride=(1, 1), bias=False)\n      (bn1): BatchNorm2d(0.0 M, 0.003% Params, 0.0 GMac, 0.008% MACs, 128, eps=1e-05, momentum=0.1, affine=True, track_running_stats=True)\n      (basis_conv2): Conv2d(0.002 M, 0.029% Params, 0.001 GMac, 0.076% MACs, 128, 2, kernel_size=(3, 3), stride=(1, 1), padding=(1, 1), bias=False)\n      (basis_bn2): BatchNorm2d(0.0 M, 0.002% Params, 0.0 GMac, 0.004% MACs, 66, eps=1e-05, momentum=0.1, affine=True, track_running_stats=True)\n      (coeff_conv2): Conv2d(0.008 M, 0.106% Params, 0.002 GMac, 0.279% MACs, 66, 128, kernel_size=(1, 1), stride=(1, 1), bias=False)\n      (bn2): BatchNorm2d(0.0 M, 0.003% Params, 0.0 GMac, 0.008% MACs, 128, eps=1e-05, momentum=0.1, affine=True, track_running_stats=True)\n      (coeff_conv2_skip): Conv2d(0.008 M, 0.106% Params, 0.0 GMac, 0.000% MACs, 66, 128, kernel_size=(1, 1), stride=(1, 1), bias=False)\n      (bn2_skip): BatchNorm2d(0.0 M, 0.003% Params, 0.0 GMac, 0.000% MACs, 128, eps=1e-05, momentum=0.1, affine=True, track_running_stats=True)\n      (shortcut): Sequential(0.0 M, 0.000% Params, 0.0 GMac, 0.000% MACs, )\n    )\n    (2): BasicBlock_SingleShared(\n      0.096 M, 1.206% Params, 0.119 GMac, 15.343% MACs, \n      (shared_basis): Conv2d(0.074 M, 0.926% Params, 0.113 GMac, 14.608% MACs, 128, 64, kernel_size=(3, 3), stride=(1, 1), padding=(1, 1), bias=False)\n      (basis_conv1): Conv2d(0.002 M, 0.029% Params, 0.001 GMac, 0.076% MACs, 128, 2, kernel_size=(3, 3), stride=(1, 1), padding=(1, 1), bias=False)\n      (basis_bn1): BatchNorm2d(0.0 M, 0.002% Params, 0.0 GMac, 0.004% MACs, 66, eps=1e-05, momentum=0.1, affine=True, track_running_stats=True)\n      (coeff_conv1): Conv2d(0.008 M, 0.106% Params, 0.002 GMac, 0.279% MACs, 66, 128, kernel_size=(1, 1), stride=(1, 1), bias=False)\n      (bn1): BatchNorm2d(0.0 M, 0.003% Params, 0.0 GMac, 0.008% MACs, 128, eps=1e-05, momentum=0.1, affine=True, track_running_stats=True)\n      (basis_conv2): Conv2d(0.002 M, 0.029% Params, 0.001 GMac, 0.076% MACs, 128, 2, kernel_size=(3, 3), stride=(1, 1), padding=(1, 1), bias=False)\n      (basis_bn2): BatchNorm2d(0.0 M, 0.002% Params, 0.0 GMac, 0.004% MACs, 66, eps=1e-05, momentum=0.1, affine=True, track_running_stats=True)\n      (coeff_conv2): Conv2d(0.008 M, 0.106% Params, 0.002 GMac, 0.279% MACs, 66, 128, kernel_size=(1, 1), stride=(1, 1), bias=False)\n      (bn2): BatchNorm2d(0.0 M, 0.003% Params, 0.0 GMac, 0.008% MACs, 128, eps=1e-05, momentum=0.1, affine=True, track_running_stats=True)\n      (shortcut): Sequential(0.0 M, 0.000% Params, 0.0 GMac, 0.000% MACs, )\n    )\n    (3): BasicBlock_SingleShared(\n      0.096 M, 1.206% Params, 0.119 GMac, 15.343% MACs, \n      (shared_basis): Conv2d(0.074 M, 0.926% Params, 0.113 GMac, 14.608% MACs, 128, 64, kernel_size=(3, 3), stride=(1, 1), padding=(1, 1), bias=False)\n      (basis_conv1): Conv2d(0.002 M, 0.029% Params, 0.001 GMac, 0.076% MACs, 128, 2, kernel_size=(3, 3), stride=(1, 1), padding=(1, 1), bias=False)\n      (basis_bn1): BatchNorm2d(0.0 M, 0.002% Params, 0.0 GMac, 0.004% MACs, 66, eps=1e-05, momentum=0.1, affine=True, track_running_stats=True)\n      (coeff_conv1): Conv2d(0.008 M, 0.106% Params, 0.002 GMac, 0.279% MACs, 66, 128, kernel_size=(1, 1), stride=(1, 1), bias=False)\n      (bn1): BatchNorm2d(0.0 M, 0.003% Params, 0.0 GMac, 0.008% MACs, 128, eps=1e-05, momentum=0.1, affine=True, track_running_stats=True)\n      (basis_conv2): Conv2d(0.002 M, 0.029% Params, 0.001 GMac, 0.076% MACs, 128, 2, kernel_size=(3, 3), stride=(1, 1), padding=(1, 1), bias=False)\n      (basis_bn2): BatchNorm2d(0.0 M, 0.002% Params, 0.0 GMac, 0.004% MACs, 66, eps=1e-05, momentum=0.1, affine=True, track_running_stats=True)\n      (coeff_conv2): Conv2d(0.008 M, 0.106% Params, 0.002 GMac, 0.279% MACs, 66, 128, kernel_size=(1, 1), stride=(1, 1), bias=False)\n      (bn2): BatchNorm2d(0.0 M, 0.003% Params, 0.0 GMac, 0.008% MACs, 128, eps=1e-05, momentum=0.1, affine=True, track_running_stats=True)\n      (shortcut): Sequential(0.0 M, 0.000% Params, 0.0 GMac, 0.000% MACs, )\n    )\n  )\n  (shared_basis_3): Conv2d(0.295 M, 3.705% Params, 0.189 GMac, 24.346% MACs, 256, 128, kernel_size=(3, 3), stride=(1, 1), padding=(1, 1), bias=False)\n  (layer3): SkippableSequential(\n    2.866 M, 36.004% Params, 1.031 GMac, 132.931% MACs, \n    (0): BasicBlock(\n      0.919 M, 11.547% Params, 0.059 GMac, 7.587% MACs, \n      (conv1): Conv2d(0.295 M, 3.705% Params, 0.019 GMac, 2.435% MACs, 128, 256, kernel_size=(3, 3), stride=(2, 2), padding=(1, 1), bias=False)\n      (bn1): BatchNorm2d(0.001 M, 0.006% Params, 0.0 GMac, 0.004% MACs, 256, eps=1e-05, momentum=0.1, affine=True, track_running_stats=True)\n      (conv2): Conv2d(0.59 M, 7.410% Params, 0.038 GMac, 4.869% MACs, 256, 256, kernel_size=(3, 3), stride=(1, 1), padding=(1, 1), bias=False)\n      (bn2): BatchNorm2d(0.001 M, 0.006% Params, 0.0 GMac, 0.004% MACs, 256, eps=1e-05, momentum=0.1, affine=True, track_running_stats=True)\n      (shortcut): Sequential(\n        0.033 M, 0.418% Params, 0.002 GMac, 0.275% MACs, \n        (0): Conv2d(0.033 M, 0.412% Params, 0.002 GMac, 0.271% MACs, 128, 256, kernel_size=(1, 1), stride=(2, 2), bias=False)\n        (1): BatchNorm2d(0.001 M, 0.006% Params, 0.0 GMac, 0.004% MACs, 256, eps=1e-05, momentum=0.1, affine=True, track_running_stats=True)\n      )\n    )\n    (1): BasicBlock_SingleShared(\n      0.382 M, 4.805% Params, 0.194 GMac, 25.069% MACs, \n      (shared_basis): Conv2d(0.295 M, 3.705% Params, 0.189 GMac, 24.346% MACs, 256, 128, kernel_size=(3, 3), stride=(1, 1), padding=(1, 1), bias=False)\n      (basis_conv1): Conv2d(0.009 M, 0.116% Params, 0.001 GMac, 0.076% MACs, 256, 4, kernel_size=(3, 3), stride=(1, 1), padding=(1, 1), bias=False)\n      (basis_bn1): BatchNorm2d(0.0 M, 0.003% Params, 0.0 GMac, 0.002% MACs, 132, eps=1e-05, momentum=0.1, affine=True, track_running_stats=True)\n      (coeff_conv1): Conv2d(0.034 M, 0.425% Params, 0.002 GMac, 0.279% MACs, 132, 256, kernel_size=(1, 1), stride=(1, 1), bias=False)\n      (bn1): BatchNorm2d(0.001 M, 0.006% Params, 0.0 GMac, 0.004% MACs, 256, eps=1e-05, momentum=0.1, affine=True, track_running_stats=True)\n      (basis_conv2): Conv2d(0.009 M, 0.116% Params, 0.001 GMac, 0.076% MACs, 256, 4, kernel_size=(3, 3), stride=(1, 1), padding=(1, 1), bias=False)\n      (basis_bn2): BatchNorm2d(0.0 M, 0.003% Params, 0.0 GMac, 0.002% MACs, 132, eps=1e-05, momentum=0.1, affine=True, track_running_stats=True)\n      (coeff_conv2): Conv2d(0.034 M, 0.425% Params, 0.002 GMac, 0.279% MACs, 132, 256, kernel_size=(1, 1), stride=(1, 1), bias=False)\n      (bn2): BatchNorm2d(0.001 M, 0.006% Params, 0.0 GMac, 0.004% MACs, 256, eps=1e-05, momentum=0.1, affine=True, track_running_stats=True)\n      (shortcut): Sequential(0.0 M, 0.000% Params, 0.0 GMac, 0.000% MACs, )\n    )\n    (2): BasicBlock_SingleShared(\n      0.417 M, 5.236% Params, 0.194 GMac, 25.069% MACs, \n      (shared_basis): Conv2d(0.295 M, 3.705% Params, 0.189 GMac, 24.346% MACs, 256, 128, kernel_size=(3, 3), stride=(1, 1), padding=(1, 1), bias=False)\n      (basis_conv1): Conv2d(0.009 M, 0.116% Params, 0.001 GMac, 0.076% MACs, 256, 4, kernel_size=(3, 3), stride=(1, 1), padding=(1, 1), bias=False)\n      (basis_bn1): BatchNorm2d(0.0 M, 0.003% Params, 0.0 GMac, 0.002% MACs, 132, eps=1e-05, momentum=0.1, affine=True, track_running_stats=True)\n      (coeff_conv1): Conv2d(0.034 M, 0.425% Params, 0.002 GMac, 0.279% MACs, 132, 256, kernel_size=(1, 1), stride=(1, 1), bias=False)\n      (bn1): BatchNorm2d(0.001 M, 0.006% Params, 0.0 GMac, 0.004% MACs, 256, eps=1e-05, momentum=0.1, affine=True, track_running_stats=True)\n      (basis_conv2): Conv2d(0.009 M, 0.116% Params, 0.001 GMac, 0.076% MACs, 256, 4, kernel_size=(3, 3), stride=(1, 1), padding=(1, 1), bias=False)\n      (basis_bn2): BatchNorm2d(0.0 M, 0.003% Params, 0.0 GMac, 0.002% MACs, 132, eps=1e-05, momentum=0.1, affine=True, track_running_stats=True)\n      (coeff_conv2): Conv2d(0.034 M, 0.425% Params, 0.002 GMac, 0.279% MACs, 132, 256, kernel_size=(1, 1), stride=(1, 1), bias=False)\n      (bn2): BatchNorm2d(0.001 M, 0.006% Params, 0.0 GMac, 0.004% MACs, 256, eps=1e-05, momentum=0.1, affine=True, track_running_stats=True)\n      (coeff_conv2_skip): Conv2d(0.034 M, 0.425% Params, 0.0 GMac, 0.000% MACs, 132, 256, kernel_size=(1, 1), stride=(1, 1), bias=False)\n      (bn2_skip): BatchNorm2d(0.001 M, 0.006% Params, 0.0 GMac, 0.000% MACs, 256, eps=1e-05, momentum=0.1, affine=True, track_running_stats=True)\n      (shortcut): Sequential(0.0 M, 0.000% Params, 0.0 GMac, 0.000% MACs, )\n    )\n    (3): BasicBlock_SingleShared(\n      0.382 M, 4.805% Params, 0.194 GMac, 25.069% MACs, \n      (shared_basis): Conv2d(0.295 M, 3.705% Params, 0.189 GMac, 24.346% MACs, 256, 128, kernel_size=(3, 3), stride=(1, 1), padding=(1, 1), bias=False)\n      (basis_conv1): Conv2d(0.009 M, 0.116% Params, 0.001 GMac, 0.076% MACs, 256, 4, kernel_size=(3, 3), stride=(1, 1), padding=(1, 1), bias=False)\n      (basis_bn1): BatchNorm2d(0.0 M, 0.003% Params, 0.0 GMac, 0.002% MACs, 132, eps=1e-05, momentum=0.1, affine=True, track_running_stats=True)\n      (coeff_conv1): Conv2d(0.034 M, 0.425% Params, 0.002 GMac, 0.279% MACs, 132, 256, kernel_size=(1, 1), stride=(1, 1), bias=False)\n      (bn1): BatchNorm2d(0.001 M, 0.006% Params, 0.0 GMac, 0.004% MACs, 256, eps=1e-05, momentum=0.1, affine=True, track_running_stats=True)\n      (basis_conv2): Conv2d(0.009 M, 0.116% Params, 0.001 GMac, 0.076% MACs, 256, 4, kernel_size=(3, 3), stride=(1, 1), padding=(1, 1), bias=False)\n      (basis_bn2): BatchNorm2d(0.0 M, 0.003% Params, 0.0 GMac, 0.002% MACs, 132, eps=1e-05, momentum=0.1, affine=True, track_running_stats=True)\n      (coeff_conv2): Conv2d(0.034 M, 0.425% Params, 0.002 GMac, 0.279% MACs, 132, 256, kernel_size=(1, 1), stride=(1, 1), bias=False)\n      (bn2): BatchNorm2d(0.001 M, 0.006% Params, 0.0 GMac, 0.004% MACs, 256, eps=1e-05, momentum=0.1, affine=True, track_running_stats=True)\n      (shortcut): Sequential(0.0 M, 0.000% Params, 0.0 GMac, 0.000% MACs, )\n    )\n    (4): BasicBlock_SingleShared(\n      0.382 M, 4.805% Params, 0.194 GMac, 25.069% MACs, \n      (shared_basis): Conv2d(0.295 M, 3.705% Params, 0.189 GMac, 24.346% MACs, 256, 128, kernel_size=(3, 3), stride=(1, 1), padding=(1, 1), bias=False)\n      (basis_conv1): Conv2d(0.009 M, 0.116% Params, 0.001 GMac, 0.076% MACs, 256, 4, kernel_size=(3, 3), stride=(1, 1), padding=(1, 1), bias=False)\n      (basis_bn1): BatchNorm2d(0.0 M, 0.003% Params, 0.0 GMac, 0.002% MACs, 132, eps=1e-05, momentum=0.1, affine=True, track_running_stats=True)\n      (coeff_conv1): Conv2d(0.034 M, 0.425% Params, 0.002 GMac, 0.279% MACs, 132, 256, kernel_size=(1, 1), stride=(1, 1), bias=False)\n      (bn1): BatchNorm2d(0.001 M, 0.006% Params, 0.0 GMac, 0.004% MACs, 256, eps=1e-05, momentum=0.1, affine=True, track_running_stats=True)\n      (basis_conv2): Conv2d(0.009 M, 0.116% Params, 0.001 GMac, 0.076% MACs, 256, 4, kernel_size=(3, 3), stride=(1, 1), padding=(1, 1), bias=False)\n      (basis_bn2): BatchNorm2d(0.0 M, 0.003% Params, 0.0 GMac, 0.002% MACs, 132, eps=1e-05, momentum=0.1, affine=True, track_running_stats=True)\n      (coeff_conv2): Conv2d(0.034 M, 0.425% Params, 0.002 GMac, 0.279% MACs, 132, 256, kernel_size=(1, 1), stride=(1, 1), bias=False)\n      (bn2): BatchNorm2d(0.001 M, 0.006% Params, 0.0 GMac, 0.004% MACs, 256, eps=1e-05, momentum=0.1, affine=True, track_running_stats=True)\n      (shortcut): Sequential(0.0 M, 0.000% Params, 0.0 GMac, 0.000% MACs, )\n    )\n    (5): BasicBlock_SingleShared(\n      0.382 M, 4.805% Params, 0.194 GMac, 25.069% MACs, \n      (shared_basis): Conv2d(0.295 M, 3.705% Params, 0.189 GMac, 24.346% MACs, 256, 128, kernel_size=(3, 3), stride=(1, 1), padding=(1, 1), bias=False)\n      (basis_conv1): Conv2d(0.009 M, 0.116% Params, 0.001 GMac, 0.076% MACs, 256, 4, kernel_size=(3, 3), stride=(1, 1), padding=(1, 1), bias=False)\n      (basis_bn1): BatchNorm2d(0.0 M, 0.003% Params, 0.0 GMac, 0.002% MACs, 132, eps=1e-05, momentum=0.1, affine=True, track_running_stats=True)\n      (coeff_conv1): Conv2d(0.034 M, 0.425% Params, 0.002 GMac, 0.279% MACs, 132, 256, kernel_size=(1, 1), stride=(1, 1), bias=False)\n      (bn1): BatchNorm2d(0.001 M, 0.006% Params, 0.0 GMac, 0.004% MACs, 256, eps=1e-05, momentum=0.1, affine=True, track_running_stats=True)\n      (basis_conv2): Conv2d(0.009 M, 0.116% Params, 0.001 GMac, 0.076% MACs, 256, 4, kernel_size=(3, 3), stride=(1, 1), padding=(1, 1), bias=False)\n      (basis_bn2): BatchNorm2d(0.0 M, 0.003% Params, 0.0 GMac, 0.002% MACs, 132, eps=1e-05, momentum=0.1, affine=True, track_running_stats=True)\n      (coeff_conv2): Conv2d(0.034 M, 0.425% Params, 0.002 GMac, 0.279% MACs, 132, 256, kernel_size=(1, 1), stride=(1, 1), bias=False)\n      (bn2): BatchNorm2d(0.001 M, 0.006% Params, 0.0 GMac, 0.004% MACs, 256, eps=1e-05, momentum=0.1, affine=True, track_running_stats=True)\n      (shortcut): Sequential(0.0 M, 0.000% Params, 0.0 GMac, 0.000% MACs, )\n    )\n  )\n  (shared_basis_4): Conv2d(1.18 M, 14.821% Params, 0.075 GMac, 9.738% MACs, 512, 256, kernel_size=(3, 3), stride=(1, 1), padding=(1, 1), bias=False)\n  (layer4): SkippableSequential(\n    6.863 M, 86.224% Params, 0.221 GMac, 28.490% MACs, \n    (0): BasicBlock(\n      3.673 M, 46.148% Params, 0.059 GMac, 7.581% MACs, \n      (conv1): Conv2d(1.18 M, 14.821% Params, 0.019 GMac, 2.435% MACs, 256, 512, kernel_size=(3, 3), stride=(2, 2), padding=(1, 1), bias=False)\n      (bn1): BatchNorm2d(0.001 M, 0.013% Params, 0.0 GMac, 0.002% MACs, 512, eps=1e-05, momentum=0.1, affine=True, track_running_stats=True)\n      (conv2): Conv2d(2.359 M, 29.642% Params, 0.038 GMac, 4.869% MACs, 512, 512, kernel_size=(3, 3), stride=(1, 1), padding=(1, 1), bias=False)\n      (bn2): BatchNorm2d(0.001 M, 0.013% Params, 0.0 GMac, 0.002% MACs, 512, eps=1e-05, momentum=0.1, affine=True, track_running_stats=True)\n      (shortcut): Sequential(\n        0.132 M, 1.660% Params, 0.002 GMac, 0.273% MACs, \n        (0): Conv2d(0.131 M, 1.647% Params, 0.002 GMac, 0.271% MACs, 256, 512, kernel_size=(1, 1), stride=(2, 2), bias=False)\n        (1): BatchNorm2d(0.001 M, 0.013% Params, 0.0 GMac, 0.002% MACs, 512, eps=1e-05, momentum=0.1, affine=True, track_running_stats=True)\n      )\n    )\n    (1): BasicBlock_SingleShared(\n      1.663 M, 20.894% Params, 0.081 GMac, 10.455% MACs, \n      (shared_basis): Conv2d(1.18 M, 14.821% Params, 0.075 GMac, 9.738% MACs, 512, 256, kernel_size=(3, 3), stride=(1, 1), padding=(1, 1), bias=False)\n      (basis_conv1): Conv2d(0.037 M, 0.463% Params, 0.001 GMac, 0.076% MACs, 512, 8, kernel_size=(3, 3), stride=(1, 1), padding=(1, 1), bias=False)\n      (basis_bn1): BatchNorm2d(0.001 M, 0.007% Params, 0.0 GMac, 0.001% MACs, 264, eps=1e-05, momentum=0.1, affine=True, track_running_stats=True)\n      (coeff_conv1): Conv2d(0.135 M, 1.698% Params, 0.002 GMac, 0.279% MACs, 264, 512, kernel_size=(1, 1), stride=(1, 1), bias=False)\n      (bn1): BatchNorm2d(0.001 M, 0.013% Params, 0.0 GMac, 0.002% MACs, 512, eps=1e-05, momentum=0.1, affine=True, track_running_stats=True)\n      (basis_conv2): Conv2d(0.037 M, 0.463% Params, 0.001 GMac, 0.076% MACs, 512, 8, kernel_size=(3, 3), stride=(1, 1), padding=(1, 1), bias=False)\n      (basis_bn2): BatchNorm2d(0.001 M, 0.007% Params, 0.0 GMac, 0.001% MACs, 264, eps=1e-05, momentum=0.1, affine=True, track_running_stats=True)\n      (coeff_conv2): Conv2d(0.135 M, 1.698% Params, 0.002 GMac, 0.279% MACs, 264, 512, kernel_size=(1, 1), stride=(1, 1), bias=False)\n      (bn2): BatchNorm2d(0.001 M, 0.013% Params, 0.0 GMac, 0.002% MACs, 512, eps=1e-05, momentum=0.1, affine=True, track_running_stats=True)\n      (coeff_conv2_skip): Conv2d(0.135 M, 1.698% Params, 0.0 GMac, 0.000% MACs, 264, 512, kernel_size=(1, 1), stride=(1, 1), bias=False)\n      (bn2_skip): BatchNorm2d(0.001 M, 0.013% Params, 0.0 GMac, 0.000% MACs, 512, eps=1e-05, momentum=0.1, affine=True, track_running_stats=True)\n      (shortcut): Sequential(0.0 M, 0.000% Params, 0.0 GMac, 0.000% MACs, )\n    )\n    (2): BasicBlock_SingleShared(\n      1.527 M, 19.183% Params, 0.081 GMac, 10.455% MACs, \n      (shared_basis): Conv2d(1.18 M, 14.821% Params, 0.075 GMac, 9.738% MACs, 512, 256, kernel_size=(3, 3), stride=(1, 1), padding=(1, 1), bias=False)\n      (basis_conv1): Conv2d(0.037 M, 0.463% Params, 0.001 GMac, 0.076% MACs, 512, 8, kernel_size=(3, 3), stride=(1, 1), padding=(1, 1), bias=False)\n      (basis_bn1): BatchNorm2d(0.001 M, 0.007% Params, 0.0 GMac, 0.001% MACs, 264, eps=1e-05, momentum=0.1, affine=True, track_running_stats=True)\n      (coeff_conv1): Conv2d(0.135 M, 1.698% Params, 0.002 GMac, 0.279% MACs, 264, 512, kernel_size=(1, 1), stride=(1, 1), bias=False)\n      (bn1): BatchNorm2d(0.001 M, 0.013% Params, 0.0 GMac, 0.002% MACs, 512, eps=1e-05, momentum=0.1, affine=True, track_running_stats=True)\n      (basis_conv2): Conv2d(0.037 M, 0.463% Params, 0.001 GMac, 0.076% MACs, 512, 8, kernel_size=(3, 3), stride=(1, 1), padding=(1, 1), bias=False)\n      (basis_bn2): BatchNorm2d(0.001 M, 0.007% Params, 0.0 GMac, 0.001% MACs, 264, eps=1e-05, momentum=0.1, affine=True, track_running_stats=True)\n      (coeff_conv2): Conv2d(0.135 M, 1.698% Params, 0.002 GMac, 0.279% MACs, 264, 512, kernel_size=(1, 1), stride=(1, 1), bias=False)\n      (bn2): BatchNorm2d(0.001 M, 0.013% Params, 0.0 GMac, 0.002% MACs, 512, eps=1e-05, momentum=0.1, affine=True, track_running_stats=True)\n      (shortcut): Sequential(0.0 M, 0.000% Params, 0.0 GMac, 0.000% MACs, )\n    )\n  )\n  (avgpool): AdaptiveAvgPool2d(0.0 M, 0.000% Params, 0.0 GMac, 0.001% MACs, output_size=(1, 1))\n  (fc): Linear(0.051 M, 0.645% Params, 0.0 GMac, 0.007% MACs, in_features=512, out_features=100, bias=True)\n  (fc_skip): Linear(0.051 M, 0.645% Params, 0.0 GMac, 0.000% MACs, in_features=512, out_features=100, bias=True)\n)\nComputational complexity:       0.78 GMac\nNumber of parameters:           7.96 M  \n"
    }
   ],
   "source": [
    "from ptflops import get_model_complexity_info\n",
    "\n",
    "model = resnet.ResNet34_SingleSharedmodel = resnet.ResNet34_SingleShared\n",
    "file_weight = './checkpoint/CIFAR100-ResNet34_SingleShared-S32-U1-L10.0-phase5-3.pth'\n",
    "\n",
    "testloader = utils.get_testdata('CIFAR100',\"./data\",batch_size=256)\n",
    "\n",
    "with torch.cuda.device(0):\n",
    "  net = model(32, 1)\n",
    "  net = net.to('cuda')\n",
    "  checkpoint = torch.load(file_weight)\n",
    "  net.load_state_dict(checkpoint['net_state_dict'])\n",
    "\n",
    "  macs, params = get_model_complexity_info(net, (3, 32, 32), as_strings=True,\n",
    "                                           print_per_layer_stat=True, verbose=False)\n",
    "  print('{:<30}  {:<8}'.format('Computational complexity: ', macs))\n",
    "  print('{:<30}  {:<8}'.format('Number of parameters: ', params))"
   ]
  },
  {
   "cell_type": "code",
   "execution_count": null,
   "metadata": {},
   "outputs": [],
   "source": []
  },
  {
   "cell_type": "code",
   "execution_count": 2,
   "metadata": {
    "tags": []
   },
   "outputs": [
    {
     "output_type": "error",
     "ename": "FileNotFoundError",
     "evalue": "[Errno 2] No such file or directory: './checkpoint/CIFAR100-ResNet34_SingleShared-S32-U1-L10.0-nofinetuned-1.pth'",
     "traceback": [
      "\u001b[0;31m---------------------------------------------------------------------------\u001b[0m",
      "\u001b[0;31mFileNotFoundError\u001b[0m                         Traceback (most recent call last)",
      "\u001b[0;32m<ipython-input-2-29a2503ea49b>\u001b[0m in \u001b[0;36m<module>\u001b[0;34m\u001b[0m\n\u001b[1;32m     11\u001b[0m \u001b[0mnet\u001b[0m \u001b[0;34m=\u001b[0m \u001b[0mmodel\u001b[0m\u001b[0;34m(\u001b[0m\u001b[0mshared_rank\u001b[0m\u001b[0;34m,\u001b[0m \u001b[0munique_rank\u001b[0m\u001b[0;34m)\u001b[0m\u001b[0;34m\u001b[0m\u001b[0;34m\u001b[0m\u001b[0m\n\u001b[1;32m     12\u001b[0m \u001b[0mnet\u001b[0m \u001b[0;34m=\u001b[0m \u001b[0mnet\u001b[0m\u001b[0;34m.\u001b[0m\u001b[0mto\u001b[0m\u001b[0;34m(\u001b[0m\u001b[0mdevice\u001b[0m\u001b[0;34m)\u001b[0m\u001b[0;34m\u001b[0m\u001b[0;34m\u001b[0m\u001b[0m\n\u001b[0;32m---> 13\u001b[0;31m \u001b[0mcheckpoint\u001b[0m \u001b[0;34m=\u001b[0m \u001b[0mtorch\u001b[0m\u001b[0;34m.\u001b[0m\u001b[0mload\u001b[0m\u001b[0;34m(\u001b[0m\u001b[0mfile_weight\u001b[0m\u001b[0;34m)\u001b[0m\u001b[0;34m\u001b[0m\u001b[0;34m\u001b[0m\u001b[0m\n\u001b[0m\u001b[1;32m     14\u001b[0m \u001b[0mnet\u001b[0m\u001b[0;34m.\u001b[0m\u001b[0mload_state_dict\u001b[0m\u001b[0;34m(\u001b[0m\u001b[0mcheckpoint\u001b[0m\u001b[0;34m[\u001b[0m\u001b[0;34m'net_state_dict'\u001b[0m\u001b[0;34m]\u001b[0m\u001b[0;34m)\u001b[0m\u001b[0;34m\u001b[0m\u001b[0;34m\u001b[0m\u001b[0m\n\u001b[1;32m     15\u001b[0m \u001b[0;34m\u001b[0m\u001b[0m\n",
      "\u001b[0;32m~/.local/lib/python3.6/site-packages/torch/serialization.py\u001b[0m in \u001b[0;36mload\u001b[0;34m(f, map_location, pickle_module, **pickle_load_args)\u001b[0m\n\u001b[1;32m    582\u001b[0m         \u001b[0mpickle_load_args\u001b[0m\u001b[0;34m[\u001b[0m\u001b[0;34m'encoding'\u001b[0m\u001b[0;34m]\u001b[0m \u001b[0;34m=\u001b[0m \u001b[0;34m'utf-8'\u001b[0m\u001b[0;34m\u001b[0m\u001b[0;34m\u001b[0m\u001b[0m\n\u001b[1;32m    583\u001b[0m \u001b[0;34m\u001b[0m\u001b[0m\n\u001b[0;32m--> 584\u001b[0;31m     \u001b[0;32mwith\u001b[0m \u001b[0m_open_file_like\u001b[0m\u001b[0;34m(\u001b[0m\u001b[0mf\u001b[0m\u001b[0;34m,\u001b[0m \u001b[0;34m'rb'\u001b[0m\u001b[0;34m)\u001b[0m \u001b[0;32mas\u001b[0m \u001b[0mopened_file\u001b[0m\u001b[0;34m:\u001b[0m\u001b[0;34m\u001b[0m\u001b[0;34m\u001b[0m\u001b[0m\n\u001b[0m\u001b[1;32m    585\u001b[0m         \u001b[0;32mif\u001b[0m \u001b[0m_is_zipfile\u001b[0m\u001b[0;34m(\u001b[0m\u001b[0mopened_file\u001b[0m\u001b[0;34m)\u001b[0m\u001b[0;34m:\u001b[0m\u001b[0;34m\u001b[0m\u001b[0;34m\u001b[0m\u001b[0m\n\u001b[1;32m    586\u001b[0m             \u001b[0;32mwith\u001b[0m \u001b[0m_open_zipfile_reader\u001b[0m\u001b[0;34m(\u001b[0m\u001b[0mf\u001b[0m\u001b[0;34m)\u001b[0m \u001b[0;32mas\u001b[0m \u001b[0mopened_zipfile\u001b[0m\u001b[0;34m:\u001b[0m\u001b[0;34m\u001b[0m\u001b[0;34m\u001b[0m\u001b[0m\n",
      "\u001b[0;32m~/.local/lib/python3.6/site-packages/torch/serialization.py\u001b[0m in \u001b[0;36m_open_file_like\u001b[0;34m(name_or_buffer, mode)\u001b[0m\n\u001b[1;32m    232\u001b[0m \u001b[0;32mdef\u001b[0m \u001b[0m_open_file_like\u001b[0m\u001b[0;34m(\u001b[0m\u001b[0mname_or_buffer\u001b[0m\u001b[0;34m,\u001b[0m \u001b[0mmode\u001b[0m\u001b[0;34m)\u001b[0m\u001b[0;34m:\u001b[0m\u001b[0;34m\u001b[0m\u001b[0;34m\u001b[0m\u001b[0m\n\u001b[1;32m    233\u001b[0m     \u001b[0;32mif\u001b[0m \u001b[0m_is_path\u001b[0m\u001b[0;34m(\u001b[0m\u001b[0mname_or_buffer\u001b[0m\u001b[0;34m)\u001b[0m\u001b[0;34m:\u001b[0m\u001b[0;34m\u001b[0m\u001b[0;34m\u001b[0m\u001b[0m\n\u001b[0;32m--> 234\u001b[0;31m         \u001b[0;32mreturn\u001b[0m \u001b[0m_open_file\u001b[0m\u001b[0;34m(\u001b[0m\u001b[0mname_or_buffer\u001b[0m\u001b[0;34m,\u001b[0m \u001b[0mmode\u001b[0m\u001b[0;34m)\u001b[0m\u001b[0;34m\u001b[0m\u001b[0;34m\u001b[0m\u001b[0m\n\u001b[0m\u001b[1;32m    235\u001b[0m     \u001b[0;32melse\u001b[0m\u001b[0;34m:\u001b[0m\u001b[0;34m\u001b[0m\u001b[0;34m\u001b[0m\u001b[0m\n\u001b[1;32m    236\u001b[0m         \u001b[0;32mif\u001b[0m \u001b[0;34m'w'\u001b[0m \u001b[0;32min\u001b[0m \u001b[0mmode\u001b[0m\u001b[0;34m:\u001b[0m\u001b[0;34m\u001b[0m\u001b[0;34m\u001b[0m\u001b[0m\n",
      "\u001b[0;32m~/.local/lib/python3.6/site-packages/torch/serialization.py\u001b[0m in \u001b[0;36m__init__\u001b[0;34m(self, name, mode)\u001b[0m\n\u001b[1;32m    213\u001b[0m \u001b[0;32mclass\u001b[0m \u001b[0m_open_file\u001b[0m\u001b[0;34m(\u001b[0m\u001b[0m_opener\u001b[0m\u001b[0;34m)\u001b[0m\u001b[0;34m:\u001b[0m\u001b[0;34m\u001b[0m\u001b[0;34m\u001b[0m\u001b[0m\n\u001b[1;32m    214\u001b[0m     \u001b[0;32mdef\u001b[0m \u001b[0m__init__\u001b[0m\u001b[0;34m(\u001b[0m\u001b[0mself\u001b[0m\u001b[0;34m,\u001b[0m \u001b[0mname\u001b[0m\u001b[0;34m,\u001b[0m \u001b[0mmode\u001b[0m\u001b[0;34m)\u001b[0m\u001b[0;34m:\u001b[0m\u001b[0;34m\u001b[0m\u001b[0;34m\u001b[0m\u001b[0m\n\u001b[0;32m--> 215\u001b[0;31m         \u001b[0msuper\u001b[0m\u001b[0;34m(\u001b[0m\u001b[0m_open_file\u001b[0m\u001b[0;34m,\u001b[0m \u001b[0mself\u001b[0m\u001b[0;34m)\u001b[0m\u001b[0;34m.\u001b[0m\u001b[0m__init__\u001b[0m\u001b[0;34m(\u001b[0m\u001b[0mopen\u001b[0m\u001b[0;34m(\u001b[0m\u001b[0mname\u001b[0m\u001b[0;34m,\u001b[0m \u001b[0mmode\u001b[0m\u001b[0;34m)\u001b[0m\u001b[0;34m)\u001b[0m\u001b[0;34m\u001b[0m\u001b[0;34m\u001b[0m\u001b[0m\n\u001b[0m\u001b[1;32m    216\u001b[0m \u001b[0;34m\u001b[0m\u001b[0m\n\u001b[1;32m    217\u001b[0m     \u001b[0;32mdef\u001b[0m \u001b[0m__exit__\u001b[0m\u001b[0;34m(\u001b[0m\u001b[0mself\u001b[0m\u001b[0;34m,\u001b[0m \u001b[0;34m*\u001b[0m\u001b[0margs\u001b[0m\u001b[0;34m)\u001b[0m\u001b[0;34m:\u001b[0m\u001b[0;34m\u001b[0m\u001b[0;34m\u001b[0m\u001b[0m\n",
      "\u001b[0;31mFileNotFoundError\u001b[0m: [Errno 2] No such file or directory: './checkpoint/CIFAR100-ResNet34_SingleShared-S32-U1-L10.0-nofinetuned-1.pth'"
     ]
    }
   ],
   "source": [
    "model = resnet.ResNet34_SingleShared\n",
    "file_weight = './checkpoint/CIFAR100-ResNet34_SingleShared-S32-U1-L10.0-nofinetuned-1.pth'\n",
    "file_weight2 = './checkpoint/CIFAR100-ResNet34_SingleShared-S32-U1-L10.0-1.pth'\n",
    "shared_rank=32\n",
    "unique_rank = 1\n",
    "    \n",
    "testloader = utils.get_testdata('CIFAR100',\"./data\",batch_size=256)\n",
    "\n",
    "device='cuda'\n",
    "\n",
    "net = model(shared_rank, unique_rank)\n",
    "net = net.to(device)\n",
    "checkpoint = torch.load(file_weight)\n",
    "net.load_state_dict(checkpoint['net_state_dict'])\n",
    "\n",
    "net2 = model(shared_rank, unique_rank)\n",
    "net2 = net2.to(device)\n",
    "checkpoint = torch.load(file_weight2)\n",
    "net2.load_state_dict(checkpoint['net_state_dict'])\n"
   ]
  },
  {
   "cell_type": "code",
   "execution_count": 25,
   "metadata": {
    "tags": []
   },
   "outputs": [
    {
     "output_type": "stream",
     "name": "stdout",
     "text": "True\nTrue\n"
    }
   ],
   "source": [
    "print(torch.equal(net.layer3[1].coeff_conv1.weight.data, net2.layer3[1].coeff_conv1.weight.data))\n",
    "print(torch.equal(net.fc_skip.weight.data, net2.fc_skip.weight.data))"
   ]
  },
  {
   "cell_type": "code",
   "execution_count": 22,
   "metadata": {
    "tags": []
   },
   "outputs": [
    {
     "output_type": "stream",
     "name": "stdout",
     "text": "Parameter containing:\ntensor([[[[-8.6031e-04]],\n\n         [[ 2.7997e-03]],\n\n         [[-1.4403e-03]],\n\n         ...,\n\n         [[ 2.5615e-03]],\n\n         [[-2.6530e-03]],\n\n         [[ 2.0235e-03]]],\n\n\n        [[[ 6.0741e-03]],\n\n         [[-2.3647e-03]],\n\n         [[-5.7773e-03]],\n\n         ...,\n\n         [[-1.1535e-03]],\n\n         [[ 2.6554e-05]],\n\n         [[ 2.8954e-03]]],\n\n\n        [[[ 1.5489e-03]],\n\n         [[ 2.9847e-03]],\n\n         [[-1.0291e-03]],\n\n         ...,\n\n         [[-6.0833e-04]],\n\n         [[ 8.0511e-04]],\n\n         [[ 1.7967e-04]]],\n\n\n        ...,\n\n\n        [[[-7.5172e-04]],\n\n         [[-2.3077e-04]],\n\n         [[-6.0648e-03]],\n\n         ...,\n\n         [[ 2.9002e-03]],\n\n         [[-4.2223e-03]],\n\n         [[ 2.8131e-04]]],\n\n\n        [[[ 7.7262e-04]],\n\n         [[ 1.2863e-03]],\n\n         [[ 1.1007e-03]],\n\n         ...,\n\n         [[-1.7288e-03]],\n\n         [[ 2.7387e-04]],\n\n         [[-6.2827e-04]]],\n\n\n        [[[-3.2858e-03]],\n\n         [[ 9.5407e-04]],\n\n         [[ 3.0025e-03]],\n\n         ...,\n\n         [[-3.6341e-03]],\n\n         [[ 6.1982e-03]],\n\n         [[ 1.1397e-03]]]], device='cuda:0', requires_grad=True)\n"
    }
   ],
   "source": [
    "for p in net2.layer3[3].coeff_conv1.parameters():\n",
    "    print(p)"
   ]
  },
  {
   "cell_type": "markdown",
   "metadata": {},
   "source": [
    "### freeze the parameters of the scaled-down model."
   ]
  },
  {
   "cell_type": "code",
   "execution_count": null,
   "metadata": {},
   "outputs": [],
   "source": []
  },
  {
   "cell_type": "code",
   "execution_count": null,
   "metadata": {
    "tags": []
   },
   "outputs": [],
   "source": [
    "import copy\n",
    "XX = copy.deepcopy(net.layer1[1].coeff_conv1.weight.data)\n",
    "print(torch.equal(XX, net.layer1[1].coeff_conv1.weight.data))"
   ]
  },
  {
   "cell_type": "code",
   "execution_count": null,
   "metadata": {
    "tags": []
   },
   "outputs": [],
   "source": [
    "# freeze all parameters\n",
    "for param in net.parameters():\n",
    "    param.requires_grad = False\n",
    "\n",
    "# defreeze params of only being used by the high-performance model\n",
    "num_blocks =[0, 3, 4, 6, 3]\n",
    "for i in range(1,5): # Layers. Skip the first layer\n",
    "    layer = getattr(net,\"layer\"+str(i))\n",
    "    num_skip_blocks = int(num_blocks[i]/2)\n",
    "    for j in range(num_skip_blocks, num_blocks[i]): # blocks. Skip the first block\n",
    "        print(\"layer: %s, block: %s\" %(i, j))\n",
    "        layer[j].coeff_conv1.weight.requires_grad = True\n",
    "        layer[j].coeff_conv2.weight.requires_grad = True\n",
    "net.fc.weight.requires_grad = True\n",
    "net.fc.bias.requires_grad = True"
   ]
  },
  {
   "cell_type": "code",
   "execution_count": null,
   "metadata": {
    "tags": []
   },
   "outputs": [],
   "source": [
    "print(net.layer1[1].coeff_conv1.weight.requires_grad)"
   ]
  },
  {
   "cell_type": "code",
   "execution_count": null,
   "metadata": {},
   "outputs": [],
   "source": []
  },
  {
   "cell_type": "code",
   "execution_count": null,
   "metadata": {},
   "outputs": [],
   "source": []
  }
 ],
 "metadata": {
  "kernelspec": {
   "display_name": "Python 3",
   "language": "python",
   "name": "python3"
  },
  "language_info": {
   "codemirror_mode": {
    "name": "ipython",
    "version": 3
   },
   "file_extension": ".py",
   "mimetype": "text/x-python",
   "name": "python",
   "nbconvert_exporter": "python",
   "pygments_lexer": "ipython3",
   "version": "3.6.9-final"
  }
 },
 "nbformat": 4,
 "nbformat_minor": 4
}